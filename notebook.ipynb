{
 "cells": [
  {
   "cell_type": "markdown",
   "id": "937acf3c-c077-4ca6-8d90-8f6dd4d13c54",
   "metadata": {},
   "source": [
    "<center><img src=\"redpopcorn.jpg\"></center>"
   ]
  },
  {
   "cell_type": "markdown",
   "id": "5962b2cd-17bb-4ec9-b2d5-68537ca26860",
   "metadata": {},
   "source": [
    "\n",
    "## The data\n",
    "### **netflix_data.csv**\n",
    "| Column | Description |\n",
    "|--------|-------------|\n",
    "| `show_id` | The ID of the show |\n",
    "| `type` | Type of show |\n",
    "| `title` | Title of the show |\n",
    "| `director` | Director of the show |\n",
    "| `cast` | Cast of the show |\n",
    "| `country` | Country of origin |\n",
    "| `date_added` | Date added to Netflix |\n",
    "| `release_year` | Year of Netflix release |\n",
    "| `duration` | Duration of the show in minutes |\n",
    "| `description` | Description of the show |\n",
    "| `genre` | Show genre |"
   ]
  },
  {
   "cell_type": "code",
   "execution_count": 1,
   "id": "320a3abc-8a36-4b2b-baaf-473325363a4d",
   "metadata": {
    "executionCancelledAt": null,
    "executionTime": 50,
    "lastExecutedAt": 1718541592110,
    "lastExecutedByKernel": "59c27c83-8ad5-44c6-a2e6-fec70c97a9fe",
    "lastScheduledRunId": null,
    "lastSuccessfullyExecutedCode": "# Importing pandas and matplotlib\nimport pandas as pd\nimport matplotlib.pyplot as plt\nimport numpy as np\n\n# Read in the Netflix CSV as a DataFrame\nnetflix_df= pd.read_csv(\"netflix_data.csv\")"
   },
   "outputs": [],
   "source": [
    "# Importing pandas and matplotlib\n",
    "import pandas as pd\n",
    "import matplotlib.pyplot as plt\n",
    "import numpy as np\n",
    "\n",
    "# Read in the Netflix CSV as a DataFrame\n",
    "netflix_df= pd.read_csv(\"netflix_data.csv\")"
   ]
  },
  {
   "cell_type": "code",
   "execution_count": 2,
   "id": "72658473-114f-49eb-bd4e-cc03c710834a",
   "metadata": {
    "executionCancelledAt": null,
    "executionTime": 204,
    "lastExecutedAt": 1718541592314,
    "lastExecutedByKernel": "59c27c83-8ad5-44c6-a2e6-fec70c97a9fe",
    "lastScheduledRunId": null,
    "lastSuccessfullyExecutedCode": "# Start coding here! Use as many cells as you like\nrelease_year_df = netflix_df[(netflix_df[\"release_year\"]>=1990) & (netflix_df[\"release_year\"]<2000)]\nduration_df = release_year_df[\"duration\"]\nplt.hist(duration_df, bins=20, edgecolor = 'black')\nduration= 95\nplt.show()",
    "outputsMetadata": {
     "0": {
      "height": 321,
      "type": "dataFrame"
     },
     "1": {
      "height": 616,
      "type": "stream"
     }
    }
   },
   "outputs": [
    {
     "data": {
      "image/png": "[encoded data removed]",
      "text/plain": [
       "<Figure size 432x288 with 1 Axes>"
      ]
     },
     "metadata": {
      "needs_background": "light"
     },
     "output_type": "display_data"
    }
   ],
   "source": [
    "# Start coding here! Use as many cells as you like\n",
    "release_year_df = netflix_df[(netflix_df[\"release_year\"]>=1990) & (netflix_df[\"release_year\"]<2000)]\n",
    "duration_df = release_year_df[\"duration\"]\n",
    "plt.hist(duration_df, bins=20, edgecolor = 'black')\n",
    "plt.show()"
   ]
  },
  {
   "cell_type": "code",
   "execution_count": null,
   "id": "c213c10c",
   "metadata": {},
   "outputs": [],
   "source": [
    "duration= 95"
   ]
  },
  {
   "cell_type": "code",
   "execution_count": 89,
   "id": "193ea7c4-84e8-47d5-b482-5947bf9a603f",
   "metadata": {
    "executionCancelledAt": null,
    "executionTime": 48,
    "lastExecutedAt": 1718541592362,
    "lastExecutedByKernel": "59c27c83-8ad5-44c6-a2e6-fec70c97a9fe",
    "lastScheduledRunId": null,
    "lastSuccessfullyExecutedCode": "#action_movies_df = release_year_df[release_year_df[\"genre\"] == \"Action\"]\n#short_movie_count = len(action_movies_df[action_movies_df[\"duration\"] < 90])\n#print(short_action_movies)",
    "outputsMetadata": {
     "0": {
      "height": 38,
      "type": "stream"
     }
    }
   },
   "outputs": [],
   "source": [
    "# Initial Way\n",
    "action_movies_df = release_year_df[release_year_df[\"genre\"] == \"Action\"]\n",
    "short_action_movies = len(action_movies_df[action_movies_df[\"duration\"] < 90])\n",
    "print(short_action_movies)"
   ]
  },
  {
   "cell_type": "code",
   "execution_count": 3,
   "id": "e5654d1a-6589-42a1-a136-13ca76739520",
   "metadata": {
    "executionCancelledAt": null,
    "executionTime": 10,
    "lastExecutedAt": 1718541624808,
    "lastExecutedByKernel": "59c27c83-8ad5-44c6-a2e6-fec70c97a9fe",
    "lastScheduledRunId": null,
    "lastSuccessfullyExecutedCode": "for label, row in action_movie_decade.iterrows():",
    "outputsMetadata": {
     "0": {
      "height": 38,
      "type": "stream"
     }
    }
   },
   "outputs": [
    {
     "name": "stdout",
     "output_type": "stream",
     "text": [
      "7\n"
     ]
    }
   ],
   "source": [
    "# Alternate Way\n",
    "action_movie_decade = release_year_df[release_year_df[\"genre\"]== \"Action\"]\n",
    "short_movie_count = 0\n",
    "\n",
    "for label, row in action_movie_decade.iterrows():\n",
    "    if row['duration'] < 90 :\n",
    "        short_movie_count += 1\n",
    "print(short_movie_count)"
   ]
  },
  {
   "cell_type": "code",
   "execution_count": null,
   "id": "c2d45885",
   "metadata": {},
   "outputs": [],
   "source": []
  }
 ],
 "metadata": {
  "colab": {
   "name": "Welcome to DataCamp Workspaces.ipynb",
   "provenance": []
  },
  "editor": "DataLab",
  "kernelspec": {
   "display_name": "Python 3 (ipykernel)",
   "language": "python",
   "name": "python3"
  },
  "language_info": {
   "codemirror_mode": {
    "name": "ipython",
    "version": 3
   },
   "file_extension": ".py",
   "mimetype": "text/x-python",
   "name": "python",
   "nbconvert_exporter": "python",
   "pygments_lexer": "ipython3",
   "version": "3.9.12"
  }
 },
 "nbformat": 4,
 "nbformat_minor": 5
}
